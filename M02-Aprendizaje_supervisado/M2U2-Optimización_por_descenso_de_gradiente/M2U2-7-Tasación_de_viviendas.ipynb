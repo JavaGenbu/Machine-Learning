{
  "cells": [
    {
      "cell_type": "markdown",
      "metadata": {
        "id": "view-in-github",
        "colab_type": "text"
      },
      "source": [
        "<a href=\"https://colab.research.google.com/github/JavaGenbu/Machine-Learning-JoseValero/blob/main/M02-Aprendizaje_supervisado/M2U2-Optimizaci%C3%B3n_por_descenso_de_gradiente/M2U2-7-Tasaci%C3%B3n_de_viviendas.ipynb\" target=\"_parent\"><img src=\"https://colab.research.google.com/assets/colab-badge.svg\" alt=\"Open In Colab\"/></a>"
      ]
    },
    {
      "cell_type": "markdown",
      "id": "89bbc7a1-1bd6-4502-9794-9a2d6973cbb4",
      "metadata": {
        "id": "89bbc7a1-1bd6-4502-9794-9a2d6973cbb4"
      },
      "source": [
        "# Regresión lineal: Ejemplo de tasación de viviendas\n",
        "M2U2 - Ejercicio 7\n",
        "\n",
        "## ¿Qué vamos a hacer?\n",
        "- Entrenar un modelo de regresión lineal multivariable\n",
        "- Crear un dataset sintético siguiendo un esquema de datos real\n",
        "\n",
        "Recuerda seguir las instrucciones para las entregas de prácticas indicadas en [Instrucciones entregas](https://github.com/Tokio-School/Machine-Learning/blob/main/Instrucciones%20entregas.md)."
      ]
    },
    {
      "cell_type": "code",
      "execution_count": null,
      "id": "ea2a6120-5d57-4455-b640-9e0c838d7522",
      "metadata": {
        "id": "ea2a6120-5d57-4455-b640-9e0c838d7522"
      },
      "outputs": [],
      "source": [
        "import time\n",
        "import numpy as np\n",
        "from matplotlib import pyplot as plt"
      ]
    },
    {
      "cell_type": "markdown",
      "id": "6527942d-d241-439e-b2e3-3da5d89e989a",
      "metadata": {
        "id": "6527942d-d241-439e-b2e3-3da5d89e989a"
      },
      "source": [
        "## Set de datos de tasación de viviendas sintético\n",
        "\n",
        "En esta ocasión vamos a explorar cómo crear un dataset sintético que siga la estructura que queramos, para simular un dataset real con plena flexibilidad.\n",
        "\n",
        "En este caso, vamos a usar como ejemplo un dataset inmobiliario con el objetivo de entrenar un tadador de viviendas con las siguientes características:\n",
        "\n",
        "Variable objetivo o dependiente:\n",
        "- Precio de venta (int)\n",
        "\n",
        "Características, variables explicatorias o independientes:\n",
        "- Superficie útil (int)\n",
        "- Localización (int, representando la barriada como categoría ordinal)\n",
        "- Tipo de vivienda (int, representando piso, chalet, adosado, ático, etc. como categoría ordinal)\n",
        "- Nº de habitaciones (int)\n",
        "- Nº de cuartos de baño (int)\n",
        "- Garaje (int, 0/1 representando si tiene o no)\n",
        "- Superficie zonas comunes (int)\n",
        "- Año de construcción (int)\n",
        "\n",
        "Nuestro modelo intentará aproximar una función lineal multivariable que nos permita interpretar el mercado inmobiliario y hacer predicciones sobre el precio de venta de nuevas viviendas, según la función lineal:\n",
        "\n",
        "$$Y = h_\\Theta(x) = X \\times \\Theta^T$$\n",
        "Donde $h_\\Theta(x)$ es la hipótesis lineal."
      ]
    },
    {
      "cell_type": "markdown",
      "id": "d8ad8a9f-756e-41ed-b40c-f3908169d2c5",
      "metadata": {
        "id": "d8ad8a9f-756e-41ed-b40c-f3908169d2c5"
      },
      "source": [
        "### Creación del dataset sintético\n",
        "\n",
        "Primero crearemos un ejemplo de una vivienda con datos conocidos, con los valores de sus características y el precio de venta:"
      ]
    },
    {
      "cell_type": "code",
      "execution_count": null,
      "id": "c0c447fb-6b84-42fe-97bc-ae1cadc2bba5",
      "metadata": {
        "id": "c0c447fb-6b84-42fe-97bc-ae1cadc2bba5"
      },
      "outputs": [],
      "source": [
        "x_ej1 = np.asarray([100, 4, 2, 2, 1, 0, 30, 10])\n",
        "y_ej1 = np.asarray([80000])\n",
        "\n",
        "print('Precio de venta de la vivienda:', y_ej1[0])\n",
        "print('Superficie útil:', x_ej1[0])\n",
        "print('Localización:', x_ej1[1])\n",
        "print('Tipo de vivienda:', x_ej1[2])\n",
        "print('Nº de habitaciones:', x_ej1[3])\n",
        "print('Nº de cuartos de baño:', x_ej1[4])\n",
        "print('Garaje (sí/no):', x_ej1[5])\n",
        "print('Superficie de zonas comunes:', x_ej1[6])\n",
        "print('Antigüedad:', x_ej1[7])"
      ]
    },
    {
      "cell_type": "markdown",
      "id": "774b6589-b81f-459a-b900-af941154ab8f",
      "metadata": {
        "id": "774b6589-b81f-459a-b900-af941154ab8f"
      },
      "source": [
        "De esta forma podemos crear nuevos ejemplos con los valores que queramos a nuestro antojo.\n",
        "\n",
        "Modifica los valores de la vivienda anterior para generar otras viviendas de forma manual.\n",
        "\n",
        "Del mismo modo que hemos creado un ejemplo de vivienda manualmente, vamos a crear múltiples ejemplos aleatorios de forma automática:\n",
        "\n",
        "*Nota*: Por simpleza a la hora de generar nºs aleatorios con código, vamos a usar float en lugar de int en los mismos rangos lógicos para las características de las viviendas."
      ]
    },
    {
      "cell_type": "code",
      "execution_count": null,
      "id": "0b707c05-0eeb-4653-8283-6cbbf7c6be0e",
      "metadata": {
        "id": "0b707c05-0eeb-4653-8283-6cbbf7c6be0e"
      },
      "outputs": [],
      "source": [
        "m = 100           # nº de ejemplos de viviendas\n",
        "n = x_ej1.shape[0]    # nº de características de cada vivienda\n",
        "\n",
        "X = np.random.rand(m, n)\n",
        "\n",
        "print('Primeros 10 ejemplos de X:')\n",
        "print(X[:10, :])\n",
        "print('Tamaño de la matriz de ejemplos X:')\n",
        "print(X.shape)"
      ]
    },
    {
      "cell_type": "markdown",
      "id": "eab5696b-fbb2-43a5-8ab1-e3743a1a0b9f",
      "metadata": {
        "id": "eab5696b-fbb2-43a5-8ab1-e3743a1a0b9f"
      },
      "source": [
        "*¿Cómo podemos crear el vector *Y* de precios de venta de nuestro dataset sintético, de forma que sigua la relación lineal que queremos aproximar?*\n",
        "\n",
        "Para ello, debemos partir de una *Theta_verd* como en ejercicios pasados.\n",
        "\n",
        "A veces, el problema es obtener una *Y* en el rango que quisiéramos modificando cada valor de *Theta_verd*, lo que puede ser bastante tedioso.\n",
        "\n",
        "En otros casos, una alternativa sería crear *X* e *Y* manualmente, y luego calcular la *Theta_verd* correspondinete a dichas matrices.\n",
        "\n",
        "En este caso, crearemos *Theta_verd* a mano para poder interpretar sus valores:"
      ]
    },
    {
      "cell_type": "code",
      "execution_count": null,
      "id": "42430a82-3a9b-4a22-8946-4e061fdc0435",
      "metadata": {
        "id": "42430a82-3a9b-4a22-8946-4e061fdc0435"
      },
      "outputs": [],
      "source": [
        "x = X[0, :]\n",
        "\n",
        "print('Ej. de vivienda con características aleatorias:')\n",
        "print(x)\n",
        "\n",
        "Theta_verd = np.asarray([1000., -500, 10000, 5000, 2500, 6000, 50, -1500])\n",
        "\n",
        "print('\\nEj. de pesos de características creados manualmente:')\n",
        "print(Theta_verd)\n",
        "print(Theta_verd.shape)\n",
        "\n",
        "print('\\nEl precio de venta de dicha vivienda viene dado por sus características:')\n",
        "print('Por cada m2 de superficie útil:', Theta_verd[0])\n",
        "print('Por cada km de distancia al centro:', Theta_verd[1])\n",
        "print('Según el tipo de vivienda:', Theta_verd[2])\n",
        "print('Según el nº de habitaciones:', Theta_verd[3])\n",
        "print('Según el nº de cuartos de baño:', Theta_verd[4])\n",
        "print('Según si tiene garaje:', Theta_verd[5])\n",
        "print('Por cada m2 de superficie de zonas comunes:', Theta_verd[6])\n",
        "print('Por cada año de antigüedad:', Theta_verd[7])"
      ]
    },
    {
      "cell_type": "markdown",
      "id": "7057a1d4-589f-4628-b082-80efc63b290f",
      "metadata": {
        "id": "7057a1d4-589f-4628-b082-80efc63b290f"
      },
      "source": [
        "Cada uno de estos pesos multiplicará su característica correspondiente, sumando o restando al precio total de la vivienda.\n",
        "\n",
        "Sin embargo, a nuestro set de datos sintético ideal le falta un término muy importante, el _bias_ o _intercept_:\n",
        "El _bias_ es el término _b_ de cualquier recta $y = m * x \\times b$, el que respresenta la suma de todas las constantes que afectan a nuestro modelo o el precio base, antes de verse modificado por el resto de características.\n",
        "\n",
        "Este _bias_ es muy importante porque un modelo no sólo debe poder aproximar pesos o coeficientes que multipliquen a las características dadas, sino también a valores constantes que no dependan de las características concretas de cada ejemplo.\n",
        "\n",
        "O lo que es lo mismo: _precio = coeficientes * características + \"bias o precio base\"_.\n",
        "\n",
        "P. ej., en el caso de viviendas, sería el precio de partida de todas las viviendas, si lo hubiera, independientemente de sus características, las cuales suman o restan a partir del mismo. En el caso de un estudio sin habitaciones independientes, WC compartido, sin garaje, etc., etc., donde todas sus características fueran 0, nos permitiría determinar su precio de venta, *que no sería de 0 € seguramente*.\n",
        "\n",
        "Añadimos a *Theta_verd* un _bias_ o precio de partida."
      ]
    },
    {
      "cell_type": "code",
      "execution_count": null,
      "id": "107b5038-783a-4d94-b5c1-521ee23d559e",
      "metadata": {
        "id": "107b5038-783a-4d94-b5c1-521ee23d559e"
      },
      "outputs": [],
      "source": [
        "# CUIDADO: Cada vez que ejecutamos esta celda estamos añadiendo una columna\n",
        "# de 1s a Theta_verd y X, por lo que sólo debemos ejecutarla una vez\n",
        "\n",
        "Theta_verd = np.insert(Theta_verd, 0, 25000)    # 25000 € de precio de partida = theta[0]\n",
        "X = np.insert(X, 0, np.ones(m), axis=1)\n",
        "\n",
        "print('Theta verdadero y 10 primeros ejemplos (filas) de X:')\n",
        "print(Theta_verd)\n",
        "print(X[:10, :])\n",
        "print('Tamaños de X y Tetha verdadero:')\n",
        "print(X.shape)\n",
        "print(Theta_verd.shape)"
      ]
    },
    {
      "cell_type": "markdown",
      "id": "4639fb44-a934-4067-8a0d-5d341dc2d5f8",
      "metadata": {
        "id": "4639fb44-a934-4067-8a0d-5d341dc2d5f8"
      },
      "source": [
        "Contando con dicho *Theta_verd*, podemos establecer el vector *Y* de precios de venta de nuestros ejemplos:"
      ]
    },
    {
      "cell_type": "code",
      "execution_count": null,
      "id": "074cf941-6c77-4c40-82fa-8baa12d7c76c",
      "metadata": {
        "id": "074cf941-6c77-4c40-82fa-8baa12d7c76c"
      },
      "outputs": [],
      "source": [
        "# TODO: Modifica el siguiente código para añadir un término de error aleatorio a Y\n",
        "\n",
        "error = 0.15\n",
        "\n",
        "Y = np.matmul(X, Theta_verd)\n",
        "\n",
        "print('Precios de venta:')\n",
        "print(Y)\n",
        "print(Y.shape)"
      ]
    },
    {
      "cell_type": "markdown",
      "id": "15f8211d-9ffb-42a9-ac1b-a49e20e9387a",
      "metadata": {
        "id": "15f8211d-9ffb-42a9-ac1b-a49e20e9387a"
      },
      "source": [
        "*Nota*: Al no haber usado valores int finalmente, los precios de venta son también valores float."
      ]
    },
    {
      "cell_type": "markdown",
      "id": "638e93e9-faf1-4b2a-b8d0-2bbed579e869",
      "metadata": {
        "id": "638e93e9-faf1-4b2a-b8d0-2bbed579e869"
      },
      "source": [
        "## Entrenamiento del modelo\n",
        "\n",
        "Una vez listo nuestro dataset de datos de entrenamiento, vamos a entrenar el modelo de regresión lineal.\n",
        "\n",
        "Para ello, copia las celdas correspondientes de los últimos ejercicios para entrenar el modelo con estos datos y evalúa su comportamiento:"
      ]
    },
    {
      "cell_type": "code",
      "execution_count": null,
      "id": "54eea739-68eb-4c39-9f7a-d442177fea57",
      "metadata": {
        "id": "54eea739-68eb-4c39-9f7a-d442177fea57"
      },
      "outputs": [],
      "source": [
        "# TODO: Copia las celdas correspondientes para entrenar un modelo por regresión lineal y evaluar su entrenamiento\n",
        "\n",
        "# Dividimos los datos en conjunto de entrenamiento y de test\n",
        "from sklearn.model_selection import train_test_split\n",
        "\n",
        "X_train, X_test, y_train, y_test = train_test_split(X, Y, test_size=0.2, random_state=42)\n",
        "\n",
        "# Entrenamos el modelo de regresión lineal\n",
        "from sklearn.linear_model import LinearRegression\n",
        "\n",
        "reg = LinearRegression().fit(X_train, y_train)\n",
        "\n",
        "# Evaluamos el modelo en el conjunto de entrenamiento\n",
        "train_score = reg.score(X_train, y_train)\n",
        "print('R2 score en conjunto de entrenamiento:', train_score)\n",
        "\n",
        "# Evaluamos el modelo en el conjunto de test\n",
        "test_score = reg.score(X_test, y_test)\n",
        "print('R2 score en conjunto de test:', test_score)"
      ]
    },
    {
      "cell_type": "markdown",
      "id": "dc8b0ce2-0d81-4757-87ae-5fc5a5c0af2a",
      "metadata": {
        "id": "dc8b0ce2-0d81-4757-87ae-5fc5a5c0af2a"
      },
      "source": [
        "## Predicciones \n",
        "\n",
        "Por tanto, si creamos un nuevo ejemplo de vivienda manualmente con características aleatorias, podemos hacer una predicción sobre su precio de venta:"
      ]
    },
    {
      "cell_type": "code",
      "execution_count": null,
      "id": "62fa743e-fd1f-4c5a-816a-8066dbd0ab21",
      "metadata": {
        "id": "62fa743e-fd1f-4c5a-816a-8066dbd0ab21"
      },
      "outputs": [],
      "source": [
        "# Creamos una nueva vivienda con características aleatorias\n",
        "x_pred = np.random.rand(n+1)\n",
        "x_pred[0] = 1    # Añadimos el término de bias de 1\n",
        "\n",
        "# Calculamos su precio predicho usando el modelo entrenado\n",
        "y_pred = np.dot(x_pred, reg.coef_) + reg.intercept_\n",
        "\n",
        "print('Ej. de vivienda aleatoria:')\n",
        "print(x_pred)\n",
        "\n",
        "print('Precio predicho para dicha vivienda:')\n",
        "print(y_pred)"
      ]
    },
    {
      "cell_type": "markdown",
      "id": "894b4b58-6557-4141-b4ec-a3e918fbe7bc",
      "metadata": {
        "id": "894b4b58-6557-4141-b4ec-a3e918fbe7bc"
      },
      "source": [
        "¿Y nuestro dataset sintético original? ¿Qué precio de venta tendría? ¿Y qué resíduos tendría nuestro modelo sobre ellos?"
      ]
    },
    {
      "cell_type": "code",
      "execution_count": null,
      "id": "abc46147-9e8d-43c2-b839-51ce9e990a7b",
      "metadata": {
        "id": "abc46147-9e8d-43c2-b839-51ce9e990a7b"
      },
      "outputs": [],
      "source": [
        "# Calculamos las predicciones del modelo para todos los ejemplos de entrenamiento\n",
        "Y_pred = np.matmul(X, theta)\n",
        "\n",
        "# Calculamos los residuos\n",
        "residuos = Y - Y_pred\n",
        "\n",
        "# Representamos gráficamente los residuos\n",
        "plt.figure()\n",
        "plt.title('Residuos del modelo')\n",
        "plt.xlabel('Ejemplo de entrenamiento')\n",
        "plt.ylabel('Residuo')\n",
        "plt.scatter(range(len(residuos)), residuos)\n",
        "plt.show()"
      ]
    }
  ],
  "metadata": {
    "environment": {
      "kernel": "python3",
      "name": "common-cpu.m87",
      "type": "gcloud",
      "uri": "gcr.io/deeplearning-platform-release/base-cpu:m87"
    },
    "kernelspec": {
      "display_name": "Python 3",
      "language": "python",
      "name": "python3"
    },
    "language_info": {
      "codemirror_mode": {
        "name": "ipython",
        "version": 3
      },
      "file_extension": ".py",
      "mimetype": "text/x-python",
      "name": "python",
      "nbconvert_exporter": "python",
      "pygments_lexer": "ipython3",
      "version": "3.7.12"
    },
    "colab": {
      "provenance": [],
      "include_colab_link": true
    }
  },
  "nbformat": 4,
  "nbformat_minor": 5
}