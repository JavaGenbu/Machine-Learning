{
  "cells": [
    {
      "cell_type": "markdown",
      "metadata": {
        "id": "view-in-github",
        "colab_type": "text"
      },
      "source": [
        "<a href=\"https://colab.research.google.com/github/JavaGenbu/Machine-Learning-JoseValero/blob/main/M02-Aprendizaje_supervisado/M2U2-Optimizaci%C3%B3n_por_descenso_de_gradiente/M2U2-6-Hiper-par%C3%A1metros.ipynb\" target=\"_parent\"><img src=\"https://colab.research.google.com/assets/colab-badge.svg\" alt=\"Open In Colab\"/></a>"
      ]
    },
    {
      "cell_type": "markdown",
      "id": "58ab6f1f-db65-45ea-a1b8-45afe5146a9e",
      "metadata": {
        "id": "58ab6f1f-db65-45ea-a1b8-45afe5146a9e"
      },
      "source": [
        "# Regresión lineal: Hiper-parámetros del entrenamiento\n",
        "M2U2 - Ejercicio 6\n",
        "\n",
        "## ¿Qué vamos a hacer?\n",
        "- Comprobar el efecto de los diferentes hiper-parámetros en el entrenamiento de un modelo\n",
        "\n",
        "Recuerda seguir las instrucciones para las entregas de prácticas indicadas en [Instrucciones entregas](https://github.com/Tokio-School/Machine-Learning/blob/main/Instrucciones%20entregas.md)."
      ]
    },
    {
      "cell_type": "markdown",
      "id": "4886664c-e5bc-4697-b6e0-1d281df590b4",
      "metadata": {
        "id": "4886664c-e5bc-4697-b6e0-1d281df590b4"
      },
      "source": [
        "## Efecto de los hiper-parámetros\n",
        "\n",
        "En este laboratorio no vamos a introducir ningún concepto nuevo, ni a implementar ningún código que no hayamos implementado en otros ejercicios previos.\n",
        "\n",
        "El objetivo de este ejercicio es tener la oportunidad de comprobar cómo afectan los diferentes hiper-parámetros y otras configuraciones a nuestro proceso de entrenamiento.\n",
        "\n",
        "Para ello, simplemente vas a copiar tus celdas de código del ejercicio anterior ([Regresión lineal: Ejemplo sobre dataset sintético](https://github.com/Tokio-School/Machine-Learning/blob/main/M02-Aprendizaje_supervisado/M2U2-Optimizaci%C3%B3n_por_descenso_de_gradiente/M2U2-5-Dataset_sint%C3%A9tico.ipynb), vas a modificar muchas veces los hiper-parámetros utilizados y vas a comprobar su efecto sobre el entrenamiento, además de validar tu implementación de nuevo, que usarás en múltiples ejercicios posteriores.\n",
        "\n",
        "Por cierto, *¿conoces ya las hotkeys de JupyterLab? Te serán muy útiles durante el curso:* https://jupyterlab.readthedocs.io/en/stable/user/interface.html#keyboard-shortcuts"
      ]
    },
    {
      "cell_type": "code",
      "execution_count": 1,
      "id": "7be14e80-41b5-4ee7-9f93-4e545ba25ea3",
      "metadata": {
        "id": "7be14e80-41b5-4ee7-9f93-4e545ba25ea3"
      },
      "outputs": [],
      "source": [
        "import time\n",
        "import numpy as np\n",
        "from matplotlib import pyplot as plt"
      ]
    },
    {
      "cell_type": "markdown",
      "id": "1b7145f0-4971-45d6-89b8-2dd0fab3f032",
      "metadata": {
        "id": "1b7145f0-4971-45d6-89b8-2dd0fab3f032"
      },
      "source": [
        "## Creación del dataset sintético\n",
        "\n",
        "Copia la celda del ejercicio anterior para crear un dataset sintético, con término de bias y término de error. Dale un valor al término de error distinto a 0."
      ]
    },
    {
      "cell_type": "code",
      "execution_count": 2,
      "id": "e6f01689-241a-44ee-8e85-e2360155bb47",
      "metadata": {
        "id": "e6f01689-241a-44ee-8e85-e2360155bb47",
        "outputId": "14d61a0e-8fe2-4305-9ce3-34f9181f1954",
        "colab": {
          "base_uri": "https://localhost:8080/"
        }
      },
      "outputs": [
        {
          "output_type": "stream",
          "name": "stdout",
          "text": [
            "Theta a estimar y sus dimensiones:\n",
            "[0.98549553 0.11491099 0.64098495 0.63537514]\n",
            "(4,)\n",
            "Primeras 10 filas y 5 columnas de X e Y:\n",
            "[[ 1.          0.88398154  0.89864307  0.79491678]\n",
            " [ 1.         -0.79244009 -0.63837509 -0.11185337]\n",
            " [ 1.         -0.8386675  -0.12055132  0.70542921]\n",
            " [ 1.         -0.40202379 -0.787318    0.05200592]\n",
            " [ 1.          0.86997526 -0.30383851  0.42301777]\n",
            " [ 1.         -0.50018911 -0.36632888  0.80696102]\n",
            " [ 1.          0.75582095 -0.94182156 -0.67933159]\n",
            " [ 1.          0.36905822 -0.46173006 -0.23524639]\n",
            " [ 1.         -0.95689935 -0.17993308 -0.07788046]\n",
            " [ 1.         -0.74229513  0.73338431 -0.80464068]]\n",
            "[2.05308568 0.40197826 1.32535338 0.45344721 1.17890471 1.28694042\n",
            " 0.03608348 0.5726725  0.65665852 0.79063594]\n",
            "Dimensiones de X e Y:\n",
            "(100, 4)\n",
            "(100,)\n"
          ]
        }
      ],
      "source": [
        "# TODO: Copia aquí el código de la celda correspondiente, o copia la celda completa y elimina ésta.\n",
        "\n",
        "import numpy as np\n",
        "\n",
        "# Definir los parámetros\n",
        "m = 100\n",
        "n = 3\n",
        "error = 0.1\n",
        "\n",
        "# Generar la matriz X con n números aleatorios en [-1, 1) y añadir una columna de unos\n",
        "X = np.insert(np.random.uniform(low=-1, high=1, size=(m, n)), 0, 1, axis=1)\n",
        "\n",
        "# Generar el vector Theta_verd de n+1 números aleatorios en [0, 1)\n",
        "Theta_verd = np.random.uniform(low=0, high=1, size=n+1)\n",
        "\n",
        "# Generar el vector Y multiplicando X por Theta_verd y añadiendo un término de error aleatorio\n",
        "Y = np.matmul(X, Theta_verd)\n",
        "Y = Y + np.random.uniform(low=-error, high=error, size=m) * Y\n",
        "\n",
        "# Comprobar los valores y dimensiones de los vectores\n",
        "print('Theta a estimar y sus dimensiones:')\n",
        "print(Theta_verd)\n",
        "print(Theta_verd.shape)\n",
        "\n",
        "print('Primeras 10 filas y 5 columnas de X e Y:')\n",
        "print(X[:10, :5])\n",
        "print(Y[:10])\n",
        "\n",
        "print('Dimensiones de X e Y:')\n",
        "print(X.shape)\n",
        "print(Y.shape)"
      ]
    },
    {
      "cell_type": "markdown",
      "id": "4556d33f-42cd-4086-8b61-0dee85b21bb9",
      "metadata": {
        "id": "4556d33f-42cd-4086-8b61-0dee85b21bb9"
      },
      "source": [
        "## Entrenamiento del modelo\n",
        "\n",
        "Copia la celda con las funciones de coste y el gradient descent y la celda que entrena el modelo por gradient descent."
      ]
    },
    {
      "cell_type": "markdown",
      "id": "efc2c3eb-53a9-4f29-b3b5-5f6c7c89d5d9",
      "metadata": {
        "id": "efc2c3eb-53a9-4f29-b3b5-5f6c7c89d5d9"
      },
      "source": [
        "## Comprobar el entrenamiento del modelo\n",
        "\n",
        "Copia la celda que representa gráficamente el histórico de la función de coste de tu modelo."
      ]
    },
    {
      "cell_type": "markdown",
      "id": "119a9adc-fb51-4ad0-b6d0-9f1b6c34fce3",
      "metadata": {
        "id": "119a9adc-fb51-4ad0-b6d0-9f1b6c34fce3"
      },
      "source": [
        "## Evaluación del modelo\n",
        "\n",
        "Copia la celda que calcula y representa gráficamente los resíduos de tu modelo.\n",
        "\n",
        "Añádele a dicha celda el cálculo de la Y predicha (*Y_pred*) de la celda anterior, ya que sin dicha variable su código no funcionará correctamente."
      ]
    },
    {
      "cell_type": "markdown",
      "id": "19b8d4a3-e835-4d12-9de9-24b41812ff39",
      "metadata": {
        "id": "19b8d4a3-e835-4d12-9de9-24b41812ff39"
      },
      "source": [
        "## Modifica los hiper-parámetros y comprueba su efecto.\n",
        "\n",
        "Ahora procede a modificar uno a uno los diferentes hiper-parámetros y comprueba su efecto. Los hiper-parámetros del entrenamiento y otros parámetros de configuración que vamos a modificar son los siguientes:\n",
        "1. *m* y *n*\n",
        "1. Término del error del dataset, *error*\n",
        "1. Ratio de entrenamiento, *alpha*\n",
        "1. Parámetro de convergencia, *e*\n",
        "1. Nº máximo de iteraciones, *iter_*\n",
        "\n",
        "Queremos que en esta tarea seas lo más autónomo posible, que te tomes este tiempo para poder experimentar, descubrir por ti mismo el comportamiento de dichos parámetros, para aprender cómo modificarlos en el futuro, cuando debamos modificarlos para optimizar el entrenamiento de modelos más complejos.\n",
        "\n",
        "Por tanto, *¿por qué no aprovechas para disfrutar y descubrir por tu cuenta qué puede suceder cuando los modificamos, tanto individualmente como en conjunto?*\n",
        "\n",
        "Cuando estés listo para continuar, puedes pasar al último apartado"
      ]
    },
    {
      "cell_type": "markdown",
      "id": "6aca73c2-d94d-4535-9b5b-1b5055f1aed1",
      "metadata": {
        "id": "6aca73c2-d94d-4535-9b5b-1b5055f1aed1"
      },
      "source": [
        "## Modificación de los hiper-parámetros: preguntas y conclusiones\n",
        "\n",
        "Como objetivo de evaluación del ejercicio, vamos a incluir algunas preguntas simples para que las puedas responder en función de tus apreciaciones en el punto anterior. Puedes modificar esta celda de markdown y añadir tus respuestas a las mismas."
      ]
    },
    {
      "cell_type": "markdown",
      "id": "3ca92e81-0c6f-4faa-b064-b6cb46f2fe13",
      "metadata": {
        "id": "3ca92e81-0c6f-4faa-b064-b6cb46f2fe13"
      },
      "source": [
        "1. *¿Qué sucede cuando aumentamos el nº de ejemplos?*\n",
        "1. *¿Cómo afecta al tiempo de entrenamiento?*\n",
        "1. *¿Cómo afecta a la precisión o coste final del modelo?*\n",
        "1. *¿Qué sucede cuando aumentamos el nº de características? ¿Cómo afecta al tiempo de entrenamiento y a la precisión del modelo?*\n",
        "1. *¿Cómo afecta el término del error a tu entrenamiento? A su precisión, al nº de iteraciones hasta que converge...*\n",
        "1. *¿Cómo afecta el nº máximo de iteraciones al entrenamiento? ¿Tiene algo que ver con el tiempo de entrenamiento, la precisión final, etc.?*\n",
        "1. *¿Hay un límite del nº máximo de iteraciones? ¿Podemos aumentar este nº hasta el infinito para conseguir p. ej. mejorar la precisión?*\n",
        "1. *¿Están relacionados el nº máximo de iteraciones y el parámetro de convergencia del entrenamiento?*\n",
        "1. *¿Está relacionado el parámetro de convergencia y el coste final del modelo?*\n",
        "1. *¿Cómo afecta el ratio de entrenamiento al modelo? ¿Afecta a su velocidad, a su precisión?*\n",
        "1. *¿Podemos elevar el ratio de entrenamiento hasta el infinito? ¿Hay algún límite a partir del cual deje de funcionar, tanto en valor máximo como mínimo?*"
      ]
    },
    {
      "cell_type": "markdown",
      "id": "0ec88c16-3d8a-4591-b8e7-d1672dcc9874",
      "metadata": {
        "id": "0ec88c16-3d8a-4591-b8e7-d1672dcc9874"
      },
      "source": [
        "Curiosidades: Vamos a testear tu entorno de trabajo actual. Ésto nos dará una idea a nosotros sobre su potencia, pero también una referencia para ti, para recordarla en el futuro y conocer sus límites:\n",
        "1. *¿Cuál es el nº máximo de ejemplos y características que admite los recursos de tu entorno de trabajo actual?* Haz varias pruebas, y cuando alcances el límite de características, modifica el nº de ejemplos. Saca unos 3 puntos de combinaciones de ambos valores a partir de los cuales tu entorno te arroje un error de recursos\n",
        "\n",
        "1. Hazte una idea del tiempo de entrenamiento que necesita un modelo típico en tu entorno para un algoritmo básico, como es la regresión lineal. Con un término de error del 15%, un límite de iteraciones, ratio de aprendizaje y parámetro de convergencia suficiente, anota el tiempo que tarda el modelo en entrenarse en tu equipo. Pueba con varios valores de nº de ejemplos y características, digamos p. ej. un tamaño de dataset \"pequeño\", \"medio\" y \"grande\"."
      ]
    },
    {
      "cell_type": "code",
      "execution_count": 3,
      "id": "66ad5f43-8a0c-4f74-9333-c942eb61f97a",
      "metadata": {
        "id": "66ad5f43-8a0c-4f74-9333-c942eb61f97a",
        "outputId": "cec7c8d7-c6ad-4e70-bf9c-63945030783f",
        "colab": {
          "base_uri": "https://localhost:8080/",
          "height": 435
        }
      },
      "outputs": [
        {
          "output_type": "stream",
          "name": "stderr",
          "text": [
            "<ipython-input-3-d53dc95e3ce4>:32: UserWarning: FixedFormatter should only be used together with FixedLocator\n",
            "  ax.set_xticklabels(['', 'LR=0.001, E=100, R=0.1', 'LR=0.001, E=500, R=1', 'LR=0.001, E=1000, R=10',\n"
          ]
        },
        {
          "output_type": "display_data",
          "data": {
            "text/plain": [
              "<Figure size 576x432 with 1 Axes>"
            ],
            "image/png": "[encoded data removed]"
          },
          "metadata": {
            "needs_background": "light"
          }
        }
      ],
      "source": [
        "# TODO: Representa visualmente en una gráfica de líneas los tiempos de entrenamiento para los 3 tamaños de dataset\n",
        "\n",
        "import matplotlib.pyplot as plt\n",
        "\n",
        "# Crear listas para almacenar los tiempos de entrenamiento y los valores de los hiperparámetros\n",
        "learning_rates = [0.001, 0.01, 0.1]\n",
        "epochs = [100, 500, 1000]\n",
        "regularization_strengths = [0.1, 1, 10]\n",
        "\n",
        "training_times = []\n",
        "\n",
        "# Entrenar el modelo con diferentes combinaciones de hiperparámetros y registrar los tiempos de entrenamiento\n",
        "for lr in learning_rates:\n",
        "    for e in epochs:\n",
        "        for reg in regularization_strengths:\n",
        "            start_time = time.time()\n",
        "\n",
        "            # Aquí iría el código para entrenar el modelo con los hiperparámetros actuales\n",
        "            \n",
        "            end_time = time.time()\n",
        "            training_time = end_time - start_time\n",
        "            \n",
        "            training_times.append(training_time)\n",
        "\n",
        "# Crear la gráfica de línea con los tiempos de entrenamiento para cada combinación de hiperparámetros\n",
        "fig, ax = plt.subplots(figsize=(8, 6))\n",
        "ax.plot(training_times, label='Training time')\n",
        "\n",
        "# Etiquetar los ejes y agregar la leyenda\n",
        "ax.set_xlabel('Combinación de hiperparámetros')\n",
        "ax.set_ylabel('Tiempo de entrenamiento')\n",
        "ax.set_xticklabels(['', 'LR=0.001, E=100, R=0.1', 'LR=0.001, E=500, R=1', 'LR=0.001, E=1000, R=10',\n",
        "                     'LR=0.01, E=100, R=0.1', 'LR=0.01, E=500, R=1', 'LR=0.01, E=1000, R=10',\n",
        "                     'LR=0.1, E=100, R=0.1', 'LR=0.1, E=500, R=1', 'LR=0.1, E=1000, R=10'])\n",
        "ax.legend()\n",
        "\n",
        "plt.show()"
      ]
    },
    {
      "cell_type": "markdown",
      "id": "f3beb1de-7137-4577-b92e-b18d72ebbc1b",
      "metadata": {
        "id": "f3beb1de-7137-4577-b92e-b18d72ebbc1b"
      },
      "source": [
        "Por último, *¿hay alguna conclusión adicional que hayas descubierto y no se incluya en las preguntas anteriores? ¡Estamos deseando oirte!*"
      ]
    }
  ],
  "metadata": {
    "environment": {
      "kernel": "python3",
      "name": "common-cpu.m87",
      "type": "gcloud",
      "uri": "gcr.io/deeplearning-platform-release/base-cpu:m87"
    },
    "kernelspec": {
      "display_name": "Python 3",
      "language": "python",
      "name": "python3"
    },
    "language_info": {
      "codemirror_mode": {
        "name": "ipython",
        "version": 3
      },
      "file_extension": ".py",
      "mimetype": "text/x-python",
      "name": "python",
      "nbconvert_exporter": "python",
      "pygments_lexer": "ipython3",
      "version": "3.7.12"
    },
    "colab": {
      "provenance": [],
      "include_colab_link": true
    }
  },
  "nbformat": 4,
  "nbformat_minor": 5
}