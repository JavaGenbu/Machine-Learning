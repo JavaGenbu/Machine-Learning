{
  "cells": [
    {
      "cell_type": "markdown",
      "metadata": {
        "id": "view-in-github",
        "colab_type": "text"
      },
      "source": [
        "<a href=\"https://colab.research.google.com/github/JavaGenbu/Machine-Learning-JoseValero/blob/main/M02-Aprendizaje_supervisado/M2U2-Optimizaci%C3%B3n_por_descenso_de_gradiente/M2U2-8-Dataset_inmobiliario_real.ipynb\" target=\"_parent\"><img src=\"https://colab.research.google.com/assets/colab-badge.svg\" alt=\"Open In Colab\"/></a>"
      ]
    },
    {
      "cell_type": "markdown",
      "id": "24b8dffe-b786-4809-8670-0c2c892da116",
      "metadata": {
        "id": "24b8dffe-b786-4809-8670-0c2c892da116"
      },
      "source": [
        "# Regresión lineal: Ejemplo sobre dataset inmobiliario real\n",
        "M2U2 - Ejercicio 8\n",
        "\n",
        "## ¿Qué vamos a hacer?\n",
        "- Entrenar un modelo de ML de regresión lineal multivariable sobre un dataset inmobiliario real\n",
        "\n",
        "Recuerda seguir las instrucciones para las entregas de prácticas indicadas en [Instrucciones entregas](https://github.com/Tokio-School/Machine-Learning/blob/main/Instrucciones%20entregas.md)."
      ]
    },
    {
      "cell_type": "markdown",
      "id": "3a9f7c31-44c6-42c4-a99d-406eeb07ed15",
      "metadata": {
        "id": "3a9f7c31-44c6-42c4-a99d-406eeb07ed15"
      },
      "source": [
        "## Dataset de precios inmobiliarios de Boston\n",
        "\n",
        "Este dataset es un dataset pequeño, de sólo 506 ejemplos y 13 características, pero es un dataset real que podemos utilizar para comprobar nuestra implementación de entrenamiento de modelos y comenzar a resolver ejercicios con datos reales.\n",
        "\n",
        "Puedes encontrar el dataset y ejemplos de cómo descargarlo aquí: [Boston house prices dataset](https://scikit-learn.org/stable/datasets/toy_dataset.html#boston-house-prices-dataset)\n",
        "\n",
        "Comprueba el dataset. Tal vez tengas que hacer alguna pequeña modificación sobre los datos o tu implementación para resolverlo según el método que hemos venido utilizando."
      ]
    },
    {
      "cell_type": "code",
      "execution_count": null,
      "id": "38f4a952-d042-4a7d-a102-30f42cc7fa6c",
      "metadata": {
        "id": "38f4a952-d042-4a7d-a102-30f42cc7fa6c"
      },
      "outputs": [],
      "source": [
        "¡Claro! Para cargar el conjunto de datos y explorarlo, necesitamos importar algunas bibliotecas. Utilizaremos las bibliotecas NumPy, Pandas y Scikit-learn. Luego, podemos cargar el conjunto de datos y examinarlo.\n",
        "\n",
        "python\n",
        "\n",
        "# Importar bibliotecas\n",
        "import numpy as np\n",
        "import pandas as pd\n",
        "from sklearn.datasets import load_boston\n",
        "\n",
        "# Cargar conjunto de datos\n",
        "boston_dataset = load_boston()\n",
        "\n",
        "# Convertir el conjunto de datos en un dataframe de Pandas\n",
        "boston_df = pd.DataFrame(boston_dataset.data, columns=boston_dataset.feature_names)\n",
        "\n",
        "# Agregar la columna del precio de las viviendas\n",
        "boston_df['MEDV'] = boston_dataset.target\n",
        "\n",
        "# Explorar el conjunto de datos\n",
        "print(boston_df.head())\n",
        "print(boston_df.info())\n",
        "print(boston_df.describe())\n",
        "\n",
        "# Explorar algunos ejemplos\n",
        "print(boston_df.sample(5))\n",
        "\n",
        "# Importar biblioteca de visualización\n",
        "import seaborn as sns\n",
        "\n",
        "# Visualizar variables objetivo y características significativas\n",
        "sns.boxplot(x='MEDV', y='RM', data=boston_df)\n",
        "sns.boxplot(x='MEDV', y='LSTAT', data=boston_df)\n",
        "sns.boxplot(x='MEDV', y='PTRATIO', data=boston_df)"
      ]
    },
    {
      "cell_type": "markdown",
      "id": "1af257db-d3f5-4cd2-b983-ed3a27c2a419",
      "metadata": {
        "id": "1af257db-d3f5-4cd2-b983-ed3a27c2a419"
      },
      "source": [
        "## Entrenar el modelo, comprobar su proceso de entrenamiento y evaluar su resultado final\n",
        "\n",
        "Para este ejercicio no vas a tener instrucciones concretas, una guía o una plantilla de celdas de código, sino que queremos darte la libertad y la posibildad de enfrentarte a tu primer problema real, desde 0.\n",
        "\n",
        "Los objetivos de este ejercicio son, de nuevo:\n",
        "1. Descargarte el dataset para entrenar el modelo\n",
        "1. Entrenar un modelo de regresión lineal multivariable sobre dicho dataset, que tratará de predecir las valoraciones inmobiliarias en Boston\n",
        "1. Comprobar el proceso de entrenamiento del modelo\n",
        "1. Evaluar el modelo comprobando su peso final y la gráfica de sus residuos\n",
        "\n",
        "Para ello, fíjate en los pasos que has seguido en ejercicios anteriores y copia aquí las celdas y código que necesites para poder resolverlo.\n",
        "\n",
        "¡Ánimo!"
      ]
    },
    {
      "cell_type": "code",
      "source": [
        "# Importar bibliotecas\n",
        "from sklearn.model_selection import train_test_split\n",
        "from sklearn.linear_model import LinearRegression\n",
        "from sklearn.metrics import mean_squared_error\n",
        "\n",
        "# Dividir el conjunto de datos en conjuntos de entrenamiento y prueba\n",
        "X = boston_df.drop('MEDV', axis=1)\n",
        "y = boston_df['MEDV']\n",
        "X_train, X_test, y_train, y_test = train_test_split(X, y, test_size=0.2, random_state=42)\n",
        "\n",
        "# Crear un modelo de regresión lineal\n",
        "model = LinearRegression()\n",
        "\n",
        "# Ajustar el modelo a los datos de entrenamiento\n",
        "model.fit(X_train, y_train)\n",
        "\n",
        "# Evaluar el modelo en el conjunto de prueba\n",
        "y_pred = model.predict(X_test)\n",
        "mse = mean_squared_error(y_test, y_pred)\n",
        "print(\"MSE:\", mse)"
      ],
      "metadata": {
        "id": "nHx6WLD11RBR"
      },
      "id": "nHx6WLD11RBR",
      "execution_count": null,
      "outputs": []
    },
    {
      "cell_type": "code",
      "source": [
        "import matplotlib.pyplot as plt\n",
        "\n",
        "# Predicciones sobre el conjunto de entrenamiento\n",
        "train_pred = model.predict(X_train)\n",
        "\n",
        "# Predicciones sobre el conjunto de prueba\n",
        "test_pred = model.predict(X_test)\n",
        "\n",
        "# Visualizar las predicciones sobre el conjunto de entrenamiento\n",
        "plt.scatter(y_train, train_pred)\n",
        "plt.plot([0, 50], [0, 50], '--k')\n",
        "plt.xlabel('Valores reales')\n",
        "plt.ylabel('Predicciones')\n",
        "plt.title('Predicciones sobre el conjunto de entrenamiento')\n",
        "plt.show()\n",
        "\n",
        "# Visualizar las predicciones sobre el conjunto de prueba\n",
        "plt.scatter(y_test, test_pred)\n",
        "plt.plot([0, 50], [0, 50], '--k')\n",
        "plt.xlabel('Valores reales')\n",
        "plt.ylabel('Predicciones')\n",
        "plt.title('Predicciones sobre el conjunto de prueba')\n",
        "plt.show()"
      ],
      "metadata": {
        "id": "G47bTsWi1Uad"
      },
      "id": "G47bTsWi1Uad",
      "execution_count": null,
      "outputs": []
    },
    {
      "cell_type": "code",
      "source": [
        "import numpy as np\n",
        "\n",
        "# Comprobar los pesos finales de cada variable\n",
        "coefficients = pd.DataFrame()\n",
        "coefficients['variable'] = X_train.columns\n",
        "coefficients['weight'] = model.coef_\n",
        "coefficients.sort_values(by='weight', ascending=False, inplace=True)\n",
        "print(coefficients)\n",
        "\n",
        "# Visualizar la gráfica de residuos\n",
        "residuals = y_test - test_pred\n",
        "plt.scatter(test_pred, residuals)\n",
        "plt.xlabel('Predicciones')\n",
        "plt.ylabel('Residuos')\n",
        "plt.title('Gráfica de residuos')\n",
        "plt.show()"
      ],
      "metadata": {
        "id": "OVoOO3qT1ZgK"
      },
      "id": "OVoOO3qT1ZgK",
      "execution_count": null,
      "outputs": []
    },
    {
      "cell_type": "markdown",
      "id": "50b573fa-e03f-45ca-9d2c-b2144eae77d3",
      "metadata": {
        "id": "50b573fa-e03f-45ca-9d2c-b2144eae77d3"
      },
      "source": [
        "*BONUS:* Échale un vistazo a la fuente del dataset, que encontrarás en Scikit-learn, *¿de dónde viene? ¿Qué artículos, trabajos y tutoriales lo referencian?*"
      ]
    }
  ],
  "metadata": {
    "environment": {
      "kernel": "python3",
      "name": "common-cpu.m87",
      "type": "gcloud",
      "uri": "gcr.io/deeplearning-platform-release/base-cpu:m87"
    },
    "kernelspec": {
      "display_name": "Python 3",
      "language": "python",
      "name": "python3"
    },
    "language_info": {
      "codemirror_mode": {
        "name": "ipython",
        "version": 3
      },
      "file_extension": ".py",
      "mimetype": "text/x-python",
      "name": "python",
      "nbconvert_exporter": "python",
      "pygments_lexer": "ipython3",
      "version": "3.7.12"
    },
    "colab": {
      "provenance": [],
      "include_colab_link": true
    }
  },
  "nbformat": 4,
  "nbformat_minor": 5
}