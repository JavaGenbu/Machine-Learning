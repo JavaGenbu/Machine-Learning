{
  "cells": [
    {
      "cell_type": "markdown",
      "metadata": {
        "id": "view-in-github",
        "colab_type": "text"
      },
      "source": [
        "<a href=\"https://colab.research.google.com/github/JavaGenbu/Machine-Learning-JoseValero/blob/main/M02-Aprendizaje_supervisado/M2U2-Optimizaci%C3%B3n_por_descenso_de_gradiente/M2U2-9-Dataset_diabetes_real.ipynb\" target=\"_parent\"><img src=\"https://colab.research.google.com/assets/colab-badge.svg\" alt=\"Open In Colab\"/></a>"
      ]
    },
    {
      "cell_type": "markdown",
      "id": "7770db87-84a8-4449-9a79-84bbaf5cb644",
      "metadata": {
        "tags": [],
        "id": "7770db87-84a8-4449-9a79-84bbaf5cb644"
      },
      "source": [
        "# Regresión lineal: Ejemplo sobre dataset de diabetes real\n",
        "M2U2 - Ejercicio 9\n",
        "\n",
        "## ¿Qué vamos a hacer?\n",
        "- Entrenar un modelo de ML de regresión lineal multivariable sobre un dataset real\n",
        "\n",
        "Recuerda seguir las instrucciones para las entregas de prácticas indicadas en [Instrucciones entregas](https://github.com/Tokio-School/Machine-Learning/blob/main/Instrucciones%20entregas.md)."
      ]
    },
    {
      "cell_type": "markdown",
      "id": "81290257-7dcf-4851-9a15-03bd27f00170",
      "metadata": {
        "id": "81290257-7dcf-4851-9a15-03bd27f00170"
      },
      "source": [
        "## Dataset de evolución de la diabetes\n",
        "\n",
        "Este ejercicio complementa como 2º dataset real al ejercicio anterior.\n",
        "\n",
        "Este dataset es un dataset pequeño, de sólo 442 ejemplos y 10 características, representando la evolución de diabetes en algunos pacientes.\n",
        "\n",
        "Puedes encontrar el dataset y ejemplos de cómo descargarlo aquí: [Diabetes dataset](https://scikit-learn.org/stable/datasets/toy_dataset.html#diabetes-dataset)\n",
        "\n",
        "Comprueba el dataset. Tal vez tengas que hacer alguna pequeña modificación sobre los datos o tu implementación para resolverlo según el método que hemos venido utilizando."
      ]
    },
    {
      "cell_type": "code",
      "execution_count": null,
      "id": "58299ab7-7026-4d23-bf1b-a12c32da41e3",
      "metadata": {
        "id": "58299ab7-7026-4d23-bf1b-a12c32da41e3"
      },
      "outputs": [],
      "source": [
        "from sklearn.datasets import load_diabetes\n",
        "import pandas as pd\n",
        "import matplotlib.pyplot as plt\n",
        "\n",
        "# Carga el dataset\n",
        "diabetes = load_diabetes()\n",
        "\n",
        "# Explora los nombres de las características\n",
        "print(\"Nombres de características:\", diabetes.feature_names)\n",
        "\n",
        "# Convierte el conjunto de datos en un DataFrame de pandas\n",
        "df = pd.DataFrame(diabetes.data, columns=diabetes.feature_names)\n",
        "df['target'] = diabetes.target\n",
        "\n",
        "# Muestra los primeros 5 ejemplos\n",
        "print(\"\\nPrimeros 5 ejemplos:\")\n",
        "print(df.head())\n",
        "\n",
        "# Muestra información sobre el conjunto de datos\n",
        "print(\"\\nInformación del conjunto de datos:\")\n",
        "print(df.info())\n",
        "\n",
        "# Describe el conjunto de datos\n",
        "print(\"\\nDescripción del conjunto de datos:\")\n",
        "print(df.describe())\n",
        "\n",
        "# Representa la variable objetivo y al menos 3 características que consideres muy significativas con una gráfica boxplot\n",
        "plt.figure(figsize=(10, 6))\n",
        "plt.boxplot([df['target'], df['bmi'], df['s1'], df['s5']])\n",
        "plt.xticks([1, 2, 3, 4], ['target', 'bmi', 's1', 's5'])\n",
        "plt.title(\"Boxplot de la variable objetivo y características\")\n",
        "plt.show()"
      ]
    },
    {
      "cell_type": "markdown",
      "id": "2a472ee0-ba0e-474a-adb4-50f491bbba9e",
      "metadata": {
        "id": "2a472ee0-ba0e-474a-adb4-50f491bbba9e"
      },
      "source": [
        "## Entrenar el modelo, comprobar su proceso de entrenamiento y evaluar su resultado final\n",
        "\n",
        "Para este ejercicio no vas a tener instrucciones concretas, una guía o una plantilla de celdas de código, sino que queremos darte la libertad y la posibildad de enfrentarte a tu primer problema real, desde 0.\n",
        "\n",
        "Los objetivos de este ejercicio son, de nuevo:\n",
        "1. Descargarte el dataset para entrenar el modelo\n",
        "1. Entrenar un modelo de regresión lineal multivariable sobre dicho dataset, que tratará de predecir las valoraciones inmobiliarias en Boston\n",
        "1. Comprobar el proceso de entrenamiento del modelo\n",
        "1. Evaluar el modelo comprobando su peso final y la gráfica de sus residuos\n",
        "\n",
        "Para ello, fíjate en los pasos que has seguido en ejercicios anteriores y copia aquí las celdas y código que necesites para poder resolverlo.\n",
        "\n",
        "¡Ánimo!"
      ]
    },
    {
      "cell_type": "code",
      "source": [
        "from sklearn.datasets import load_diabetes\n",
        "from sklearn.linear_model import LinearRegression\n",
        "from sklearn.model_selection import train_test_split\n",
        "from sklearn.metrics import mean_squared_error\n",
        "\n",
        "# Carga el dataset\n",
        "diabetes = load_diabetes()\n",
        "\n",
        "# Divide el conjunto de datos en conjunto de entrenamiento y conjunto de prueba\n",
        "X_train, X_test, y_train, y_test = train_test_split(diabetes.data, diabetes.target, test_size=0.2, random_state=42)\n",
        "\n",
        "# Entrena el modelo de regresión lineal multivariable\n",
        "reg = LinearRegression().fit(X_train, y_train)\n",
        "\n",
        "# Evalúa el modelo sobre el conjunto de entrenamiento\n",
        "y_train_pred = reg.predict(X_train)\n",
        "mse_train = mean_squared_error(y_train, y_train_pred)\n",
        "print(\"Error cuadrático medio sobre el conjunto de entrenamiento:\", mse_train)\n",
        "\n",
        "# Evalúa el modelo sobre el conjunto de prueba\n",
        "y_test_pred = reg.predict(X_test)\n",
        "mse_test = mean_squared_error(y_test, y_test_pred)\n",
        "print(\"Error cuadrático medio sobre el conjunto de prueba:\", mse_test)"
      ],
      "metadata": {
        "id": "tyQ1QSBT152q"
      },
      "id": "tyQ1QSBT152q",
      "execution_count": null,
      "outputs": []
    },
    {
      "cell_type": "code",
      "source": [
        "from sklearn.datasets import load_diabetes\n",
        "from sklearn.linear_model import LinearRegression\n",
        "from sklearn.model_selection import train_test_split\n",
        "\n",
        "# Carga el dataset\n",
        "diabetes = load_diabetes()\n",
        "\n",
        "# Divide el conjunto de datos en conjunto de entrenamiento y conjunto de prueba\n",
        "X_train, X_test, y_train, y_test = train_test_split(diabetes.data, diabetes.target, test_size=0.2, random_state=42)\n",
        "\n",
        "# Entrena el modelo de regresión lineal multivariable\n",
        "reg = LinearRegression().fit(X_train, y_train)\n",
        "\n",
        "# Comprueba el coeficiente de determinación R² del modelo sobre el conjunto de entrenamiento y de prueba\n",
        "r2_train = reg.score(X_train, y_train)\n",
        "print(\"Coeficiente de determinación R² sobre el conjunto de entrenamiento:\", r2_train)\n",
        "\n",
        "r2_test = reg.score(X_test, y_test)\n",
        "print(\"Coeficiente de determinación R² sobre el conjunto de prueba:\", r2_test)"
      ],
      "metadata": {
        "id": "BFkhOmyN2QDp"
      },
      "id": "BFkhOmyN2QDp",
      "execution_count": null,
      "outputs": []
    },
    {
      "cell_type": "code",
      "source": [
        "import matplotlib.pyplot as plt\n",
        "\n",
        "# Obtiene el peso final de cada variable del modelo\n",
        "features = diabetes.feature_names\n",
        "weights = reg.coef_\n",
        "\n",
        "# Visualiza los pesos finales de cada variable\n",
        "plt.figure(figsize=(10, 5))\n",
        "plt.bar(features, weights)\n",
        "plt.title(\"Peso final de cada variable\")\n",
        "plt.xlabel(\"Variables\")\n",
        "plt.ylabel(\"Peso\")\n",
        "plt.show()\n",
        "\n",
        "# Visualiza la gráfica de residuos del modelo\n",
        "plt.figure(figsize=(10, 5))\n",
        "plt.scatter(reg.predict(X_test), reg.predict(X_test) - y_test, c='b', s=40, alpha=0.5)\n",
        "plt.hlines(y=0, xmin=0, xmax=350, colors='k', linewidth=2)\n",
        "plt.title('Gráfica de residuos')\n",
        "plt.xlabel('Valores predichos')\n",
        "plt.ylabel('Residuos')\n",
        "plt.show()"
      ],
      "metadata": {
        "id": "6jip6qi418It"
      },
      "id": "6jip6qi418It",
      "execution_count": null,
      "outputs": []
    },
    {
      "cell_type": "markdown",
      "id": "a0a91c86-9d69-4fca-863f-a09bece77ccf",
      "metadata": {
        "id": "a0a91c86-9d69-4fca-863f-a09bece77ccf"
      },
      "source": [
        "*BONUS:* Échale un vistazo a la fuente del dataset, que encontrarás en Scikit-learn, *¿de dónde viene? ¿Qué artículos, trabajos y tutoriales lo referencian?*"
      ]
    }
  ],
  "metadata": {
    "environment": {
      "kernel": "python3",
      "name": "common-cpu.m87",
      "type": "gcloud",
      "uri": "gcr.io/deeplearning-platform-release/base-cpu:m87"
    },
    "kernelspec": {
      "display_name": "Python 3",
      "language": "python",
      "name": "python3"
    },
    "language_info": {
      "codemirror_mode": {
        "name": "ipython",
        "version": 3
      },
      "file_extension": ".py",
      "mimetype": "text/x-python",
      "name": "python",
      "nbconvert_exporter": "python",
      "pygments_lexer": "ipython3",
      "version": "3.7.12"
    },
    "colab": {
      "provenance": [],
      "include_colab_link": true
    }
  },
  "nbformat": 4,
  "nbformat_minor": 5
}