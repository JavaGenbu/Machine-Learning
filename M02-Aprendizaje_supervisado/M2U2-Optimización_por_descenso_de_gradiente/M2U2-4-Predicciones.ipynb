{
  "cells": [
    {
      "cell_type": "markdown",
      "metadata": {
        "id": "view-in-github",
        "colab_type": "text"
      },
      "source": [
        "<a href=\"https://colab.research.google.com/github/JavaGenbu/Machine-Learning-JoseValero/blob/main/M02-Aprendizaje_supervisado/M2U2-Optimizaci%C3%B3n_por_descenso_de_gradiente/M2U2-4-Predicciones.ipynb\" target=\"_parent\"><img src=\"https://colab.research.google.com/assets/colab-badge.svg\" alt=\"Open In Colab\"/></a>"
      ]
    },
    {
      "cell_type": "markdown",
      "id": "3c66bed4-806b-4376-9650-d5ee945a70d1",
      "metadata": {
        "id": "3c66bed4-806b-4376-9650-d5ee945a70d1"
      },
      "source": [
        "# Regresión lineal: Predicciones\n",
        "M2U2 - Ejercicio 4\n",
        "\n",
        "## ¿Qué vamos a hacer?\n",
        "- Realizar predicciones con un modelo\n",
        "\n",
        "Recuerda seguir las instrucciones para las entregas de prácticas indicadas en [Instrucciones entregas](https://github.com/Tokio-School/Machine-Learning/blob/main/Instrucciones%20entregas.md)."
      ]
    },
    {
      "cell_type": "markdown",
      "id": "bf263410-2b66-44fc-8b1b-bd58464aa1d4",
      "metadata": {
        "id": "bf263410-2b66-44fc-8b1b-bd58464aa1d4"
      },
      "source": [
        "## Tarea 1: Crear un dataset sintético\n",
        "\n",
        "Genera un dataset sintético para esta tarea. En este caso, no usaremos el dataset para calcular una $\\Theta$, los coeficientes del modelo, sino que vamos a usar la $\\Theta$ para realizar predicciones sobre nuevos ejemplos."
      ]
    },
    {
      "cell_type": "code",
      "execution_count": null,
      "id": "7fd1cec1-42c4-431a-a14f-627cd1ddd753",
      "metadata": {
        "id": "7fd1cec1-42c4-431a-a14f-627cd1ddd753"
      },
      "outputs": [],
      "source": [
        "import numpy as np\n",
        "\n",
        "# Definir las dimensiones de X y Theta\n",
        "m = 1000  # número de muestras\n",
        "n = 5  # número de características\n",
        "\n",
        "# Generar una matriz aleatoria de características X con valores entre -1 y 1\n",
        "X = np.random.uniform(-1, 1, size=(m, n))\n",
        "\n",
        "# Generar un vector aleatorio de parámetros Theta con valores entre -5 y 5\n",
        "Theta = np.random.uniform(-5, 5, size=(n,))\n",
        "\n",
        "# Generar el vector de valores esperados Y como una combinación lineal de X y Theta\n",
        "Y = X.dot(Theta)\n",
        "\n",
        "# Comprobar los valores y dimensiones de los vectores\n",
        "print('Theta a estimar:')\n",
        "print(Theta)\n",
        "\n",
        "print('Primeras 10 filas y 5 columnas de X e Y:')\n",
        "print(X[:10, :5])\n",
        "print(Y[:10])\n",
        "\n",
        "print('Dimensiones de X e Y:')\n",
        "print(X.shape, Y.shape)"
      ]
    },
    {
      "cell_type": "markdown",
      "id": "f087776a-d154-44b1-b77c-d34daddcd633",
      "metadata": {
        "id": "f087776a-d154-44b1-b77c-d34daddcd633"
      },
      "source": [
        "## Tarea 2: Realiza predicciones con el modelo\n",
        "\n",
        "El modelo se compone únicamente de los coeficientes $\\Theta$, no necesitamos X o Y para definir el modelo.\n",
        "\n",
        "Una vez obtenida la $\\Theta$ óptima, entrenando el modelo o generando el dataset directamente como en esta ocasión, usaremos la ecuación de la regresión lineal para realizar predicciones:\n",
        "\n",
        "$Y_{pred} = X \\times \\Theta$"
      ]
    },
    {
      "cell_type": "code",
      "execution_count": null,
      "id": "2ca1fa74-480f-47e7-b773-9b5ce57ad6f4",
      "metadata": {
        "id": "2ca1fa74-480f-47e7-b773-9b5ce57ad6f4"
      },
      "outputs": [],
      "source": [
        "import numpy as np\n",
        "\n",
        "def predict(x, theta):\n",
        "    \"\"\" Realiza predicciones para nuevos ejemplos\n",
        "\n",
        "    Argumentos posicionales:\n",
        "    x -- array 2D de Numpy con los valores de las variables independientes de los ejemplos, de tamaño m x n\n",
        "    theta -- array 1D de Numpy con los pesos de los coeficientes del modelo, de tamaño 1 x n (vector fila)\n",
        "    \n",
        "    Devuelve:\n",
        "    y_pred -- array 1D de Numpy con la variable dependiente/objetivo, de tamaño m x 1\n",
        "    \"\"\"\n",
        "    y_pred = x.dot(theta)\n",
        "    \n",
        "    return y_pred"
      ]
    },
    {
      "cell_type": "markdown",
      "id": "257a648d-49eb-4904-89d6-839880646efe",
      "metadata": {
        "id": "257a648d-49eb-4904-89d6-839880646efe"
      },
      "source": [
        "Para realizar predicciones, comprueba que obtienes un valor muy similar a la Y original:"
      ]
    },
    {
      "cell_type": "code",
      "execution_count": null,
      "id": "017436c0-97c3-4cc6-958a-1075fa8b3520",
      "metadata": {
        "id": "017436c0-97c3-4cc6-958a-1075fa8b3520"
      },
      "outputs": [],
      "source": [
        "import numpy as np\n",
        "\n",
        "# Suponiendo que tenemos los valores de X, Theta y Y ya definidos\n",
        "\n",
        "# Realizar predicciones utilizando la función predict\n",
        "y_pred = predict(X, Theta)\n",
        "\n",
        "# Calcular los residuos como la diferencia en valor absoluto entre Y_pred y Y\n",
        "residuos = np.abs(y_pred - Y)\n",
        "\n",
        "print(residuos)"
      ]
    },
    {
      "cell_type": "markdown",
      "id": "950804e3-b619-4c65-b340-07b9f4ced974",
      "metadata": {
        "id": "950804e3-b619-4c65-b340-07b9f4ced974"
      },
      "source": [
        "Para crear múltiples subgráficas, ¿te atreves a usar la función subplots de Matplotlib?\n",
        "\n",
        "https://matplotlib.org/stable/gallery/subplots_axes_and_figures/subplots_demo.html"
      ]
    },
    {
      "cell_type": "code",
      "execution_count": null,
      "id": "b792fe0a-e17b-47f6-b9ac-950d6b3d2eda",
      "metadata": {
        "id": "b792fe0a-e17b-47f6-b9ac-950d6b3d2eda"
      },
      "outputs": [],
      "source": [
        "import numpy as np\n",
        "import matplotlib.pyplot as plt\n",
        "\n",
        "# Suponiendo que tenemos los valores de X, Theta y Y ya definidos\n",
        "\n",
        "# Realizar predicciones utilizando la función predict\n",
        "y_pred = predict(X, Theta)\n",
        "\n",
        "# Calcular los residuos como la diferencia en valor absoluto entre Y_pred y Y\n",
        "residuos = np.abs(y_pred - Y)\n",
        "\n",
        "# Crear una figura para representar los datos\n",
        "plt.figure()\n",
        "\n",
        "# Representar un gráfico de puntos con la Y original vs la X, y la Y predicha vs la X, en colores diferentes,\n",
        "# con etiquetas para cada color\n",
        "plt.scatter(X[:, 0], Y, color='blue', label='Y real')\n",
        "plt.scatter(X[:, 0], y_pred, color='red', label='Y predicha')\n",
        "\n",
        "# Representar también los residuos para cada X como un gráfico de líneas/barras\n",
        "plt.plot(X[:, 0], residuos, color='green', label='Residuos')\n",
        "\n",
        "plt.title('Predicciones')\n",
        "plt.xlabel('X')\n",
        "plt.ylabel('Y real')\n",
        "\n",
        "plt.grid()\n",
        "plt.legend()\n",
        "plt.show()"
      ]
    },
    {
      "cell_type": "markdown",
      "id": "b257612e-4efd-4af5-a219-344291197f7c",
      "metadata": {
        "id": "b257612e-4efd-4af5-a219-344291197f7c"
      },
      "source": [
        "De esta forma tan sencilla podemos realizar predicciones con un modelo.\n",
        "\n",
        "En siguientes laboratorios veremos cómo realizarlas para modelos que entrenemos nosotros mismos.\n",
        "\n",
        "### Predicciones sobre un dataset con término de error\n",
        "\n",
        "Por otro lado, estas predicciones casan bien con los valores de Y originales, ya que el dataset no tenía ningún término de error o variación.\n",
        "\n",
        "*¿Y si vuelves a tu código de generación de un dataset sintético y lo modificas para añadir un término de error?\n",
        "En este caso, ¿cómo se comportarán las predicciones? ¿Casarán con la Y original?*\n",
        "\n",
        "Puedes comprobarlo modificando la celda de código original, añadiendo un término de error a *X* y reejecutando el resto."
      ]
    }
  ],
  "metadata": {
    "environment": {
      "kernel": "python3",
      "name": "common-cpu.m87",
      "type": "gcloud",
      "uri": "gcr.io/deeplearning-platform-release/base-cpu:m87"
    },
    "kernelspec": {
      "display_name": "Python 3",
      "language": "python",
      "name": "python3"
    },
    "language_info": {
      "codemirror_mode": {
        "name": "ipython",
        "version": 3
      },
      "file_extension": ".py",
      "mimetype": "text/x-python",
      "name": "python",
      "nbconvert_exporter": "python",
      "pygments_lexer": "ipython3",
      "version": "3.7.12"
    },
    "colab": {
      "provenance": [],
      "include_colab_link": true
    }
  },
  "nbformat": 4,
  "nbformat_minor": 5
}