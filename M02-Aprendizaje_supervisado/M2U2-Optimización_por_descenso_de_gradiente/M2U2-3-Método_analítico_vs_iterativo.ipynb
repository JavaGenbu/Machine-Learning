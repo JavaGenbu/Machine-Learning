{
  "cells": [
    {
      "cell_type": "markdown",
      "metadata": {
        "id": "view-in-github",
        "colab_type": "text"
      },
      "source": [
        "<a href=\"https://colab.research.google.com/github/JavaGenbu/Machine-Learning-JoseValero/blob/main/M02-Aprendizaje_supervisado/M2U2-Optimizaci%C3%B3n_por_descenso_de_gradiente/M2U2-3-M%C3%A9todo_anal%C3%ADtico_vs_iterativo.ipynb\" target=\"_parent\"><img src=\"https://colab.research.google.com/assets/colab-badge.svg\" alt=\"Open In Colab\"/></a>"
      ]
    },
    {
      "cell_type": "markdown",
      "id": "214e25ad-b1cd-40df-9f7a-86d90add5a35",
      "metadata": {
        "id": "214e25ad-b1cd-40df-9f7a-86d90add5a35"
      },
      "source": [
        "# Regresión lineal multivariable: Método analítico vs iterativo\n",
        "M2U2 - Ejercicio 3\n",
        "\n",
        "## ¿Qué vamos a hacer?\n",
        "- Resolver la regresión lineal por el método analítico\n",
        "\n",
        "Recuerda seguir las instrucciones para las entregas de prácticas indicadas en [Instrucciones entregas](https://github.com/Tokio-School/Machine-Learning/blob/main/Instrucciones%20entregas.md)."
      ]
    },
    {
      "cell_type": "markdown",
      "id": "9f6431ae-9df9-4879-bf85-bd84ab6ec22e",
      "metadata": {
        "id": "9f6431ae-9df9-4879-bf85-bd84ab6ec22e"
      },
      "source": [
        "## Resolver el modelo por el método analítico\n",
        "\n",
        "En esta ocasión, vamos a resolver o entrenar el modelo usando la ecuación normal, que tiene la siguiente forma:\n",
        "\n",
        "$\\Theta = (X^T \\times X)^{-1} \\times X^T \\times Y$"
      ]
    },
    {
      "cell_type": "code",
      "execution_count": null,
      "id": "f1413401-b8fe-49b6-8377-2d552e749414",
      "metadata": {
        "id": "f1413401-b8fe-49b6-8377-2d552e749414"
      },
      "outputs": [],
      "source": [
        "import numpy as np"
      ]
    },
    {
      "cell_type": "markdown",
      "id": "6ed87898-106b-4fc2-a7de-900b14a95945",
      "metadata": {
        "id": "6ed87898-106b-4fc2-a7de-900b14a95945"
      },
      "source": [
        "### Tarea 1: Genera un dataset sintético sin término de error"
      ]
    },
    {
      "cell_type": "code",
      "execution_count": null,
      "id": "2070c447-caf9-4515-8f02-1f394ab367e1",
      "metadata": {
        "id": "2070c447-caf9-4515-8f02-1f394ab367e1"
      },
      "outputs": [],
      "source": [
        "import numpy as np\n",
        "\n",
        "# Tamaño del conjunto de datos\n",
        "m = 100   # número de observaciones\n",
        "n = 1     # número de características\n",
        "\n",
        "# Generación de valores aleatorios\n",
        "np.random.seed(123)    # para reproducibilidad\n",
        "X = np.random.normal(size=(m, n))\n",
        "Theta_verd = np.random.normal(size=(n+1,))\n",
        "X_b = np.c_[np.ones((m,1)), X]    # características con término de sesgo\n",
        "Y = X_b.dot(Theta_verd) + np.random.normal(scale=0.5, size=(m,))\n",
        "\n",
        "# Comprobación de valores y dimensiones\n",
        "print('Theta a estimar:')\n",
        "print(Theta_verd)\n",
        "\n",
        "print('Primeras 10 filas y 5 columnas de X e Y:')\n",
        "print(X[:10,:5])\n",
        "print(Y[:10])\n",
        "\n",
        "print('Dimensiones de X e Y:')\n",
        "print(X.shape, Y.shape)"
      ]
    },
    {
      "cell_type": "markdown",
      "id": "f818135b-ea09-44dd-a1d4-e71c3ccc6b65",
      "metadata": {
        "id": "f818135b-ea09-44dd-a1d4-e71c3ccc6b65"
      },
      "source": [
        "### Tarea 2: Implementa la ecuación normal\n",
        "\n",
        "Implementa la siguiente función para resolver el modelo de regresión lineal, optimizando sus coeficientes $\\Theta$, completando la siguiente celda:"
      ]
    },
    {
      "cell_type": "code",
      "execution_count": null,
      "id": "0b558e31-06f9-4b5d-a1ce-9a57a41593f6",
      "metadata": {
        "id": "0b558e31-06f9-4b5d-a1ce-9a57a41593f6"
      },
      "outputs": [],
      "source": [
        "import numpy as np\n",
        "\n",
        "def normal_equation(x, y):\n",
        "    \"\"\" Calcula la theta óptima usando la ecuación normal para regresión lineal multivariable\n",
        "    \n",
        "    Argumentos posicionales:\n",
        "    x -- array 2D de Numpy con los valores de las variables independientes de los ejemplos, de tamaño m x n\n",
        "    y -- array 1D de Numpy con la variable dependiente/objetivo, de tamaño m x 1\n",
        "    \n",
        "    Devuelve:\n",
        "    theta -- array 1D de Numpy con los pesos de los coeficientes del modelo, de tamaño 1 x n (vector fila)\n",
        "    \"\"\"\n",
        "    \n",
        "    # añadir columna de unos al conjunto de características\n",
        "    x_b = np.c_[np.ones((x.shape[0], 1)), x]\n",
        "    \n",
        "    # calcular matriz de productos cruzados\n",
        "    x_b_T = x_b.T\n",
        "    x_b_T_x_b = x_b_T.dot(x_b)\n",
        "    \n",
        "    # calcular inversa de la matriz de productos cruzados\n",
        "    inv_x_b_T_x_b = np.linalg.inv(x_b_T_x_b)\n",
        "    \n",
        "    # calcular theta óptima\n",
        "    theta = inv_x_b_T_x_b.dot(x_b_T).dot(y)\n",
        "    \n",
        "    return theta.ravel()"
      ]
    },
    {
      "cell_type": "markdown",
      "id": "cfa7b645-54b0-4272-95b9-d657d42b6c10",
      "metadata": {
        "id": "cfa7b645-54b0-4272-95b9-d657d42b6c10"
      },
      "source": [
        "## Tarea 3: Comprueba la implementación\n",
        "\n",
        "Usa el dataset sintético que has creado anteriormente para comprobar que tu implementación devuelve el mismo valor de $\\Theta$ original, o muy similar.\n",
        "\n",
        "Intenta comprobarlo varias veces, modificando parámetros como el nº de ejemplos y el nº de características.\n",
        "\n",
        "También añádele de nuevo un término de error a la Y. En este caso, la $\\Theta$ inicial y la final no concordarán del todo ya que hemos introducido error o \"ruido\" en el dataset de entrenamiento.\n",
        "\n",
        "En algunas ocasiones, la ecuación normal no es invertible, por lo que puedes encontrarte con dicho error. En este caso, no te preocupes, es una limitación del método analítico y no de tu implementación en concreto si funciona en el resto de casos."
      ]
    },
    {
      "cell_type": "code",
      "execution_count": null,
      "id": "8d7972f3-22ec-4941-a8fa-a737fc3034fd",
      "metadata": {
        "id": "8d7972f3-22ec-4941-a8fa-a737fc3034fd"
      },
      "outputs": [],
      "source": [
        "# Calcular theta óptima\n",
        "theta = normal_equation(X, Y)\n",
        "\n",
        "# Comparar thetas\n",
        "print('Theta original:')\n",
        "print(Theta_verd.ravel())\n",
        "print('Theta estimada:')\n",
        "print(theta)\n",
        "print('Diferencia entre ambas Thetas:')\n",
        "print(Theta_verd.ravel() - theta)"
      ]
    }
  ],
  "metadata": {
    "environment": {
      "kernel": "python3",
      "name": "common-cpu.m87",
      "type": "gcloud",
      "uri": "gcr.io/deeplearning-platform-release/base-cpu:m87"
    },
    "kernelspec": {
      "display_name": "Python 3",
      "language": "python",
      "name": "python3"
    },
    "language_info": {
      "codemirror_mode": {
        "name": "ipython",
        "version": 3
      },
      "file_extension": ".py",
      "mimetype": "text/x-python",
      "name": "python",
      "nbconvert_exporter": "python",
      "pygments_lexer": "ipython3",
      "version": "3.7.12"
    },
    "colab": {
      "provenance": [],
      "include_colab_link": true
    }
  },
  "nbformat": 4,
  "nbformat_minor": 5
}